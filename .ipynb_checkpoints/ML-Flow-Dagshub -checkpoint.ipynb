{
 "cells": [
  {
   "cell_type": "code",
   "execution_count": 1,
   "id": "bff07bfe",
   "metadata": {},
   "outputs": [],
   "source": [
    "import mlflow\n",
    "import mlflow.sklearn\n",
    "import pandas as pd\n",
    "from sklearn.model_selection import train_test_split\n",
    "from sklearn.ensemble import RandomForestClassifier\n",
    "from sklearn.metrics import accuracy_score\n",
    "from sklearn.datasets import load_breast_cancer"
   ]
  },
  {
   "cell_type": "code",
   "execution_count": 2,
   "id": "96519eee",
   "metadata": {},
   "outputs": [],
   "source": [
    "data = load_breast_cancer()\n",
    "X = pd.DataFrame(data.data, columns=data.feature_names)\n",
    "y = pd.Series(data.target)\n",
    "\n",
    "X_train, X_test, y_train, y_test = train_test_split(X, y, test_size=0.3, random_state=42)\n",
    "\n",
    "# Initialize run version counter\n",
    "run_version = 1\n",
    "# Define the experiment name\n",
    "experiment_name = \"Test-2\""
   ]
  },
  {
   "cell_type": "code",
   "execution_count": 3,
   "id": "c8e0e634",
   "metadata": {
    "collapsed": true
   },
   "outputs": [
    {
     "data": {
      "text/html": [
       "<pre style=\"white-space:pre;overflow-x:auto;line-height:normal;font-family:Menlo,'DejaVu Sans Mono',consolas,'Courier New',monospace\">                                       <span style=\"font-weight: bold\">❗❗❗ AUTHORIZATION REQUIRED ❗❗❗</span>                                        \n",
       "</pre>\n"
      ],
      "text/plain": [
       "                                       \u001b[1m❗❗❗ AUTHORIZATION REQUIRED ❗❗❗\u001b[0m                                        \n"
      ]
     },
     "metadata": {},
     "output_type": "display_data"
    },
    {
     "data": {
      "text/html": [
       "<pre style=\"white-space:pre;overflow-x:auto;line-height:normal;font-family:Menlo,'DejaVu Sans Mono',consolas,'Courier New',monospace\">D:\\Envs\\env3\\lib\\site-packages\\rich\\live.py:231: UserWarning: install \"ipywidgets\" for Jupyter support\n",
       "  warnings.warn('install \"ipywidgets\" for Jupyter support')\n",
       "</pre>\n"
      ],
      "text/plain": [
       "D:\\Envs\\env3\\lib\\site-packages\\rich\\live.py:231: UserWarning: install \"ipywidgets\" for Jupyter support\n",
       "  warnings.warn('install \"ipywidgets\" for Jupyter support')\n"
      ]
     },
     "metadata": {},
     "output_type": "display_data"
    },
    {
     "name": "stdout",
     "output_type": "stream",
     "text": [
      "\n",
      "\n",
      "Open the following link in your browser to authorize the client:\n",
      "https://dagshub.com/login/oauth/authorize?state=8339428e-4915-4e5e-bd1c-dcc8534b9477&client_id=32b60ba385aa7cecf24046d8195a71c07dd345d9657977863b52e7748e0f0f28&middleman_request_id=45e124baf66b509a8f4f733668399ffb982a915a67f0f10303de749540b0efc7\n",
      "\n",
      "\n"
     ]
    },
    {
     "data": {
      "text/html": [
       "<pre style=\"white-space:pre;overflow-x:auto;line-height:normal;font-family:Menlo,'DejaVu Sans Mono',consolas,'Courier New',monospace\"></pre>\n"
      ],
      "text/plain": []
     },
     "metadata": {},
     "output_type": "display_data"
    },
    {
     "data": {
      "text/html": [
       "<pre style=\"white-space:pre;overflow-x:auto;line-height:normal;font-family:Menlo,'DejaVu Sans Mono',consolas,'Courier New',monospace\">Accessing as AdityaSagarr\n",
       "</pre>\n"
      ],
      "text/plain": [
       "Accessing as AdityaSagarr\n"
      ]
     },
     "metadata": {},
     "output_type": "display_data"
    },
    {
     "data": {
      "text/html": [
       "<pre style=\"white-space:pre;overflow-x:auto;line-height:normal;font-family:Menlo,'DejaVu Sans Mono',consolas,'Courier New',monospace\">Initialized MLflow to track repo <span style=\"color: #008000; text-decoration-color: #008000\">\"AdityaSagarr/Dags-Hub-demo\"</span>\n",
       "</pre>\n"
      ],
      "text/plain": [
       "Initialized MLflow to track repo \u001b[32m\"AdityaSagarr/Dags-Hub-demo\"\u001b[0m\n"
      ]
     },
     "metadata": {},
     "output_type": "display_data"
    },
    {
     "data": {
      "text/html": [
       "<pre style=\"white-space:pre;overflow-x:auto;line-height:normal;font-family:Menlo,'DejaVu Sans Mono',consolas,'Courier New',monospace\">Repository AdityaSagarr/Dags-Hub-demo initialized!\n",
       "</pre>\n"
      ],
      "text/plain": [
       "Repository AdityaSagarr/Dags-Hub-demo initialized!\n"
      ]
     },
     "metadata": {},
     "output_type": "display_data"
    }
   ],
   "source": [
    "import dagshub\n",
    "dagshub.init(repo_owner='AdityaSagarr', repo_name='Dags-Hub-demo', mlflow=True)\n"
   ]
  },
  {
   "cell_type": "code",
   "execution_count": 4,
   "id": "2c29c37a",
   "metadata": {},
   "outputs": [],
   "source": [
    "mlflow.set_tracking_uri(\"https://dagshub.com/AdityaSagarr/Dags-Hub-demo.mlflow\")"
   ]
  },
  {
   "cell_type": "code",
   "execution_count": 5,
   "id": "96c869c4",
   "metadata": {},
   "outputs": [],
   "source": [
    "import os\n",
    "\n",
    "os.environ['MLFLOW_TRACKING_USERNAME'] = 'AdityaSagarr'\n",
    "os.environ['MLFLOW_TRACKING_PASSWORD'] = '08de9f674ec76e880678abc526fdc6118d999e26'\n",
    "os.environ['MLFLOW_TRACKING_URI'] = 'https://dagshub.com/AdityaSagarr/Dags-Hub-demo.mlflow'\n"
   ]
  },
  {
   "cell_type": "code",
   "execution_count": 6,
   "id": "5e1a04a1",
   "metadata": {},
   "outputs": [
    {
     "name": "stderr",
     "output_type": "stream",
     "text": [
      "2024/12/06 12:24:52 WARNING mlflow.models.model: Model logged without a signature and input example. Please set `input_example` parameter when logging the model to auto infer the model signature.\n"
     ]
    },
    {
     "name": "stdout",
     "output_type": "stream",
     "text": [
      "🏃 View run run_v1 at: https://dagshub.com/AdityaSagarr/Dags-Hub-demo.mlflow/#/experiments/0/runs/544f38dda2e246529909d070fb1c030e\n",
      "🧪 View experiment at: https://dagshub.com/AdityaSagarr/Dags-Hub-demo.mlflow/#/experiments/0\n"
     ]
    },
    {
     "name": "stderr",
     "output_type": "stream",
     "text": [
      "2024/12/06 12:25:02 WARNING mlflow.models.model: Model logged without a signature and input example. Please set `input_example` parameter when logging the model to auto infer the model signature.\n"
     ]
    },
    {
     "name": "stdout",
     "output_type": "stream",
     "text": [
      "🏃 View run run_v2 at: https://dagshub.com/AdityaSagarr/Dags-Hub-demo.mlflow/#/experiments/0/runs/4bbd0fb332864f4f852e2e91a86eb9e4\n",
      "🧪 View experiment at: https://dagshub.com/AdityaSagarr/Dags-Hub-demo.mlflow/#/experiments/0\n"
     ]
    },
    {
     "name": "stderr",
     "output_type": "stream",
     "text": [
      "2024/12/06 12:25:12 WARNING mlflow.models.model: Model logged without a signature and input example. Please set `input_example` parameter when logging the model to auto infer the model signature.\n"
     ]
    },
    {
     "name": "stdout",
     "output_type": "stream",
     "text": [
      "🏃 View run run_v3 at: https://dagshub.com/AdityaSagarr/Dags-Hub-demo.mlflow/#/experiments/0/runs/60a3abb49f7d49e4846b64b19192f27b\n",
      "🧪 View experiment at: https://dagshub.com/AdityaSagarr/Dags-Hub-demo.mlflow/#/experiments/0\n"
     ]
    },
    {
     "name": "stderr",
     "output_type": "stream",
     "text": [
      "2024/12/06 12:25:23 WARNING mlflow.models.model: Model logged without a signature and input example. Please set `input_example` parameter when logging the model to auto infer the model signature.\n"
     ]
    },
    {
     "name": "stdout",
     "output_type": "stream",
     "text": [
      "🏃 View run run_v4 at: https://dagshub.com/AdityaSagarr/Dags-Hub-demo.mlflow/#/experiments/0/runs/0d016aadb2f24174b1100fb11c44285d\n",
      "🧪 View experiment at: https://dagshub.com/AdityaSagarr/Dags-Hub-demo.mlflow/#/experiments/0\n"
     ]
    },
    {
     "name": "stderr",
     "output_type": "stream",
     "text": [
      "2024/12/06 12:25:36 WARNING mlflow.models.model: Model logged without a signature and input example. Please set `input_example` parameter when logging the model to auto infer the model signature.\n"
     ]
    },
    {
     "name": "stdout",
     "output_type": "stream",
     "text": [
      "🏃 View run run_v5 at: https://dagshub.com/AdityaSagarr/Dags-Hub-demo.mlflow/#/experiments/0/runs/20e447236e244fa7944092e718941f99\n",
      "🧪 View experiment at: https://dagshub.com/AdityaSagarr/Dags-Hub-demo.mlflow/#/experiments/0\n"
     ]
    }
   ],
   "source": [
    "def train_and_log_experiment(n_estimators, max_depth):\n",
    "\n",
    "    global run_version \n",
    "    run_name = f\"run_v{run_version}\"\n",
    "\n",
    "    with mlflow.start_run(run_name=run_name):\n",
    "        # Train a RandomForestClassifier\n",
    "        model = RandomForestClassifier(n_estimators=n_estimators, max_depth=max_depth, random_state=42)\n",
    "        model.fit(X_train, y_train)\n",
    "        \n",
    "        y_pred = model.predict(X_test)\n",
    "        accuracy = accuracy_score(y_test, y_pred)\n",
    "        \n",
    "        # Log parameters, metrics, and model\n",
    "        mlflow.log_param(\"n_estimators\", n_estimators)\n",
    "        mlflow.log_param(\"max_depth\", max_depth)\n",
    "        mlflow.log_metric(\"accuracy\", accuracy)\n",
    "        model_name = \"random_forest_model\"\n",
    "        mlflow.sklearn.log_model(model, model_name)\n",
    "        \n",
    "        run_version += 1\n",
    "train_and_log_experiment(50, 5)\n",
    "train_and_log_experiment(100, 10)\n",
    "train_and_log_experiment(5, 15)\n",
    "train_and_log_experiment(150, 7)\n",
    "train_and_log_experiment(2, 12)\n"
   ]
  },
  {
   "cell_type": "code",
   "execution_count": null,
   "id": "88a15572",
   "metadata": {},
   "outputs": [],
   "source": []
  }
 ],
 "metadata": {
  "kernelspec": {
   "display_name": "Python (env3)",
   "language": "python",
   "name": "env3"
  },
  "language_info": {
   "codemirror_mode": {
    "name": "ipython",
    "version": 3
   },
   "file_extension": ".py",
   "mimetype": "text/x-python",
   "name": "python",
   "nbconvert_exporter": "python",
   "pygments_lexer": "ipython3",
   "version": "3.9.5"
  }
 },
 "nbformat": 4,
 "nbformat_minor": 5
}
